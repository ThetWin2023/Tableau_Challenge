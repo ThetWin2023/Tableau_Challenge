{
 "cells": [
  {
   "cell_type": "markdown",
   "metadata": {},
   "source": [
    "# Tableau Challenge - Citibike Dashboard\n",
    "### Data Analytics and Visualization - University of Toronto\n",
    "### Name: Thet Win\n",
    "### Date: September 12, 2024\n",
    "\n",
    "Summary\n",
    "The link to the dashboards and visualizations on Tableau Public is \n",
    "https://public.tableau.com/views/CitiBikeChallenge_17262564716880/CitiBikeStoryboard?:language=en-US&publish=yes&:sid=&:redirect=auth&:display_count=n&:origin=viz_share_link\n",
    "\n",
    "In this project we built a Tableau dashboards to relay information about the Citi Bike data from New York City, along with Pandas programming in Jypyter Notebook to conduct Data Engineering.\n",
    "\n",
    "About the Data\n",
    "Since 2013, the Citi Bike Program has implemented a robust infrastructure for collecting data on the program’s utilization. Through the team’s efforts, each month bike data is collected, organized, and made public on the Citi Bike Data webpage.\n",
    "Analysis for this project is based on 2024 Citi Bike Data."
   ]
  },
  {
   "cell_type": "code",
   "execution_count": 9,
   "metadata": {},
   "outputs": [],
   "source": [
    "# Import setup\n",
    "import pandas as pd"
   ]
  },
  {
   "cell_type": "code",
   "execution_count": 10,
   "metadata": {},
   "outputs": [],
   "source": [
    "# Create a list containing all the files for 2022 Jersey City data\n",
    "files = ['resources/2024/JC-202401-citibike-tripdata.csv',\n",
    "\t     'resources/2024/JC-202402-citibike-tripdata.csv',\n",
    "\t     'resources/2024/JC-202403-citibike-tripdata.csv',\n",
    "\t     'resources/2024/JC-202404-citibike-tripdata.csv',\n",
    "\t     'resources/2024/JC-202406-citibike-tripdata.csv',\n",
    "\t     'resources/2024/JC-202407-citibike-tripdata.csv',\n",
    "\t     'resources/2024/JC-202408-citibike-tripdata.csv'\n",
    "         ]\n",
    "\t\t "
   ]
  },
  {
   "cell_type": "code",
   "execution_count": 11,
   "metadata": {},
   "outputs": [],
   "source": [
    "# Create an empty dataframe to store all data\n",
    "citibike_df = pd.DataFrame()"
   ]
  },
  {
   "cell_type": "code",
   "execution_count": 12,
   "metadata": {},
   "outputs": [],
   "source": [
    "# Loop through the list of files and concatonate all data to the dataframe\n",
    "for file in files:\n",
    "    data = pd.read_csv(file) \n",
    "    citibike_df = pd.concat([citibike_df, data], axis=0)"
   ]
  },
  {
   "cell_type": "code",
   "execution_count": 13,
   "metadata": {},
   "outputs": [
    {
     "data": {
      "text/html": [
       "<div>\n",
       "<style scoped>\n",
       "    .dataframe tbody tr th:only-of-type {\n",
       "        vertical-align: middle;\n",
       "    }\n",
       "\n",
       "    .dataframe tbody tr th {\n",
       "        vertical-align: top;\n",
       "    }\n",
       "\n",
       "    .dataframe thead th {\n",
       "        text-align: right;\n",
       "    }\n",
       "</style>\n",
       "<table border=\"1\" class=\"dataframe\">\n",
       "  <thead>\n",
       "    <tr style=\"text-align: right;\">\n",
       "      <th></th>\n",
       "      <th>ride_id</th>\n",
       "      <th>rideable_type</th>\n",
       "      <th>started_at</th>\n",
       "      <th>ended_at</th>\n",
       "      <th>start_station_name</th>\n",
       "      <th>start_station_id</th>\n",
       "      <th>end_station_name</th>\n",
       "      <th>end_station_id</th>\n",
       "      <th>start_lat</th>\n",
       "      <th>start_lng</th>\n",
       "      <th>end_lat</th>\n",
       "      <th>end_lng</th>\n",
       "      <th>member_casual</th>\n",
       "    </tr>\n",
       "  </thead>\n",
       "  <tbody>\n",
       "    <tr>\n",
       "      <th>0</th>\n",
       "      <td>0744109F13385D1D</td>\n",
       "      <td>electric_bike</td>\n",
       "      <td>2024-01-15 15:18:07</td>\n",
       "      <td>2024-01-15 15:32:44</td>\n",
       "      <td>Morris Canal</td>\n",
       "      <td>JC072</td>\n",
       "      <td>Oakland Ave</td>\n",
       "      <td>JC022</td>\n",
       "      <td>40.712297</td>\n",
       "      <td>-74.038185</td>\n",
       "      <td>40.737604</td>\n",
       "      <td>-74.052478</td>\n",
       "      <td>member</td>\n",
       "    </tr>\n",
       "    <tr>\n",
       "      <th>1</th>\n",
       "      <td>B1488BFEF9118000</td>\n",
       "      <td>classic_bike</td>\n",
       "      <td>2024-01-13 15:32:50</td>\n",
       "      <td>2024-01-13 15:36:18</td>\n",
       "      <td>JC Medical Center</td>\n",
       "      <td>JC110</td>\n",
       "      <td>Grove St PATH</td>\n",
       "      <td>JC115</td>\n",
       "      <td>40.715391</td>\n",
       "      <td>-74.049692</td>\n",
       "      <td>40.719410</td>\n",
       "      <td>-74.043090</td>\n",
       "      <td>member</td>\n",
       "    </tr>\n",
       "    <tr>\n",
       "      <th>2</th>\n",
       "      <td>95A2FE8E51B4C836</td>\n",
       "      <td>classic_bike</td>\n",
       "      <td>2024-01-19 13:11:00</td>\n",
       "      <td>2024-01-19 13:14:44</td>\n",
       "      <td>Morris Canal</td>\n",
       "      <td>JC072</td>\n",
       "      <td>Exchange Pl</td>\n",
       "      <td>JC116</td>\n",
       "      <td>40.712419</td>\n",
       "      <td>-74.038526</td>\n",
       "      <td>40.716366</td>\n",
       "      <td>-74.034344</td>\n",
       "      <td>member</td>\n",
       "    </tr>\n",
       "    <tr>\n",
       "      <th>3</th>\n",
       "      <td>95D9AFF6A1652DC1</td>\n",
       "      <td>classic_bike</td>\n",
       "      <td>2024-01-23 07:03:49</td>\n",
       "      <td>2024-01-23 07:07:11</td>\n",
       "      <td>Morris Canal</td>\n",
       "      <td>JC072</td>\n",
       "      <td>Exchange Pl</td>\n",
       "      <td>JC116</td>\n",
       "      <td>40.712419</td>\n",
       "      <td>-74.038526</td>\n",
       "      <td>40.716366</td>\n",
       "      <td>-74.034344</td>\n",
       "      <td>member</td>\n",
       "    </tr>\n",
       "    <tr>\n",
       "      <th>4</th>\n",
       "      <td>5F7408988A83B1B3</td>\n",
       "      <td>classic_bike</td>\n",
       "      <td>2024-01-01 16:46:10</td>\n",
       "      <td>2024-01-01 16:50:31</td>\n",
       "      <td>Morris Canal</td>\n",
       "      <td>JC072</td>\n",
       "      <td>Harborside</td>\n",
       "      <td>JC104</td>\n",
       "      <td>40.712419</td>\n",
       "      <td>-74.038526</td>\n",
       "      <td>40.719252</td>\n",
       "      <td>-74.034234</td>\n",
       "      <td>member</td>\n",
       "    </tr>\n",
       "  </tbody>\n",
       "</table>\n",
       "</div>"
      ],
      "text/plain": [
       "            ride_id  rideable_type           started_at             ended_at  \\\n",
       "0  0744109F13385D1D  electric_bike  2024-01-15 15:18:07  2024-01-15 15:32:44   \n",
       "1  B1488BFEF9118000   classic_bike  2024-01-13 15:32:50  2024-01-13 15:36:18   \n",
       "2  95A2FE8E51B4C836   classic_bike  2024-01-19 13:11:00  2024-01-19 13:14:44   \n",
       "3  95D9AFF6A1652DC1   classic_bike  2024-01-23 07:03:49  2024-01-23 07:07:11   \n",
       "4  5F7408988A83B1B3   classic_bike  2024-01-01 16:46:10  2024-01-01 16:50:31   \n",
       "\n",
       "  start_station_name start_station_id end_station_name end_station_id  \\\n",
       "0       Morris Canal            JC072      Oakland Ave          JC022   \n",
       "1  JC Medical Center            JC110    Grove St PATH          JC115   \n",
       "2       Morris Canal            JC072      Exchange Pl          JC116   \n",
       "3       Morris Canal            JC072      Exchange Pl          JC116   \n",
       "4       Morris Canal            JC072       Harborside          JC104   \n",
       "\n",
       "   start_lat  start_lng    end_lat    end_lng member_casual  \n",
       "0  40.712297 -74.038185  40.737604 -74.052478        member  \n",
       "1  40.715391 -74.049692  40.719410 -74.043090        member  \n",
       "2  40.712419 -74.038526  40.716366 -74.034344        member  \n",
       "3  40.712419 -74.038526  40.716366 -74.034344        member  \n",
       "4  40.712419 -74.038526  40.719252 -74.034234        member  "
      ]
     },
     "execution_count": 13,
     "metadata": {},
     "output_type": "execute_result"
    }
   ],
   "source": [
    "# Show the dataframe\n",
    "citibike_df.head()"
   ]
  },
  {
   "cell_type": "code",
   "execution_count": 14,
   "metadata": {},
   "outputs": [
    {
     "name": "stdout",
     "output_type": "stream",
     "text": [
      "<class 'pandas.core.frame.DataFrame'>\n",
      "Index: 580980 entries, 0 to 106450\n",
      "Data columns (total 13 columns):\n",
      " #   Column              Non-Null Count   Dtype  \n",
      "---  ------              --------------   -----  \n",
      " 0   ride_id             580980 non-null  object \n",
      " 1   rideable_type       580980 non-null  object \n",
      " 2   started_at          580980 non-null  object \n",
      " 3   ended_at            580980 non-null  object \n",
      " 4   start_station_name  580879 non-null  object \n",
      " 5   start_station_id    580879 non-null  object \n",
      " 6   end_station_name    579053 non-null  object \n",
      " 7   end_station_id      578923 non-null  object \n",
      " 8   start_lat           580980 non-null  float64\n",
      " 9   start_lng           580980 non-null  float64\n",
      " 10  end_lat             580759 non-null  float64\n",
      " 11  end_lng             580759 non-null  float64\n",
      " 12  member_casual       580980 non-null  object \n",
      "dtypes: float64(4), object(9)\n",
      "memory usage: 62.1+ MB\n"
     ]
    }
   ],
   "source": [
    "citibike_df.info()"
   ]
  },
  {
   "cell_type": "code",
   "execution_count": 15,
   "metadata": {},
   "outputs": [
    {
     "name": "stdout",
     "output_type": "stream",
     "text": [
      "580980\n"
     ]
    }
   ],
   "source": [
    "print(len(citibike_df))"
   ]
  },
  {
   "cell_type": "code",
   "execution_count": 16,
   "metadata": {},
   "outputs": [],
   "source": [
    "# Store the dataframe as CSV file\n",
    "citibike_df.to_csv('resources/2024/JC-2024-citibike-tripdata_combined.csv', index=False)"
   ]
  }
 ],
 "metadata": {
  "kernelspec": {
   "display_name": "PythonData",
   "language": "python",
   "name": "python3"
  },
  "language_info": {
   "codemirror_mode": {
    "name": "ipython",
    "version": 3
   },
   "file_extension": ".py",
   "mimetype": "text/x-python",
   "name": "python",
   "nbconvert_exporter": "python",
   "pygments_lexer": "ipython3",
   "version": "3.10.14"
  },
  "orig_nbformat": 4
 },
 "nbformat": 4,
 "nbformat_minor": 2
}
